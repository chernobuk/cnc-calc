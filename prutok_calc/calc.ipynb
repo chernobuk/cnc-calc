{
 "cells": [
  {
   "cell_type": "markdown",
   "metadata": {},
   "source": [
    "### __Расчет наилучшего диаметра прутка__\n",
    "\n",
    "__A__ - Нижняя граница \\\n",
    "__B__ - Верхняя граница\\\n",
    "__D__ - Диаметр шейки\\\n",
    "__Ps__ - Результат испытания "
   ]
  },
  {
   "cell_type": "code",
   "execution_count": 23,
   "metadata": {},
   "outputs": [
    {
     "name": "stdout",
     "output_type": "stream",
     "text": [
      "20.0\n"
     ]
    }
   ],
   "source": [
    "A = 19\n",
    "B = 21\n",
    "\n",
    "middle = (float(A)+float(B))/2\n",
    "print(middle)"
   ]
  },
  {
   "cell_type": "code",
   "execution_count": 25,
   "metadata": {},
   "outputs": [],
   "source": [
    "# Диаметр прутка и результат испытания\n",
    "D = 6.2\n",
    "Ps = 22"
   ]
  },
  {
   "cell_type": "code",
   "execution_count": 29,
   "metadata": {},
   "outputs": [
    {
     "name": "stdout",
     "output_type": "stream",
     "text": [
      "Рекомендуемый диаметр нового тестового образца:  5.911468053322673\n"
     ]
    }
   ],
   "source": [
    "P = (middle*D*D/Ps)**(0.5)\n",
    "print(\"Рекомендуемый диаметр нового тестового образца: \", P)"
   ]
  }
 ],
 "metadata": {
  "kernelspec": {
   "display_name": "Python 3",
   "language": "python",
   "name": "python3"
  },
  "language_info": {
   "codemirror_mode": {
    "name": "ipython",
    "version": 3
   },
   "file_extension": ".py",
   "mimetype": "text/x-python",
   "name": "python",
   "nbconvert_exporter": "python",
   "pygments_lexer": "ipython3",
   "version": "3.9.1"
  }
 },
 "nbformat": 4,
 "nbformat_minor": 2
}
